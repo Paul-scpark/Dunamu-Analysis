{
 "cells": [
  {
   "cell_type": "code",
   "execution_count": 14,
   "id": "487ea02f",
   "metadata": {
    "id": "487ea02f"
   },
   "outputs": [],
   "source": [
    "import pandas as pd\n",
    "import numpy as np\n",
    "import matplotlib.pyplot as plt\n",
    "from matplotlib import rcParams\n",
    "import seaborn as sns\n",
    "from tqdm import tqdm\n",
    "\n",
    "from konlpy.tag import Okt\n",
    "from sklearn.feature_extraction.text import TfidfVectorizer\n",
    "from sklearn.cluster import DBSCAN\n",
    "from sklearn.cluster import KMeans\n",
    "from sklearn.metrics.cluster import silhouette_score\n",
    "\n",
    "from sentence_transformers import SentenceTransformer, models\n",
    "\n",
    "import warnings\n",
    "warnings.filterwarnings(action='ignore')\n",
    "\n",
    "rcParams['figure.figsize'] = 12, 8"
   ]
  },
  {
   "cell_type": "markdown",
   "id": "75939a3c",
   "metadata": {
    "id": "75939a3c"
   },
   "source": [
    "## 네이버 뉴스에서 수집한 뉴스 기사들 데이터 불러오기"
   ]
  },
  {
   "cell_type": "code",
   "execution_count": 2,
   "id": "3f651f78",
   "metadata": {
    "colab": {
     "base_uri": "https://localhost:8080/",
     "height": 615
    },
    "id": "3f651f78",
    "outputId": "239eebec-c0bc-452d-fc49-5864e1be80a0"
   },
   "outputs": [
    {
     "name": "stdout",
     "output_type": "stream",
     "text": [
      "(6589, 4)\n"
     ]
    },
    {
     "data": {
      "text/html": [
       "<div>\n",
       "<style scoped>\n",
       "    .dataframe tbody tr th:only-of-type {\n",
       "        vertical-align: middle;\n",
       "    }\n",
       "\n",
       "    .dataframe tbody tr th {\n",
       "        vertical-align: top;\n",
       "    }\n",
       "\n",
       "    .dataframe thead th {\n",
       "        text-align: right;\n",
       "    }\n",
       "</style>\n",
       "<table border=\"1\" class=\"dataframe\">\n",
       "  <thead>\n",
       "    <tr style=\"text-align: right;\">\n",
       "      <th></th>\n",
       "      <th>link</th>\n",
       "      <th>title</th>\n",
       "      <th>date</th>\n",
       "      <th>text</th>\n",
       "    </tr>\n",
       "  </thead>\n",
       "  <tbody>\n",
       "    <tr>\n",
       "      <th>0</th>\n",
       "      <td>https://n.news.naver.com/mnews/article/648/000...</td>\n",
       "      <td>클레이튼, 카카오와 '헤어질 결심'</td>\n",
       "      <td>2023.03.06.</td>\n",
       "      <td>클레이튼, 간담회 열고 올해의 '비전 맵' 발표클레이 사용처 늘리고 투명한 정보 공...</td>\n",
       "    </tr>\n",
       "    <tr>\n",
       "      <th>1</th>\n",
       "      <td>https://n.news.naver.com/mnews/article/421/000...</td>\n",
       "      <td>카카오 벗어난 클레이튼, 올해 '대중화'에 중점…'디플레이션' 추구(종합)</td>\n",
       "      <td>2023.03.06.</td>\n",
       "      <td>자체 코인 '클레이' 디플레이션 추구…\"클레이 활용처 늘릴 것\"\"카카오 '거리두기'...</td>\n",
       "    </tr>\n",
       "    <tr>\n",
       "      <th>2</th>\n",
       "      <td>https://n.news.naver.com/mnews/article/008/000...</td>\n",
       "      <td>경기도, 학생과 기업이 만나는 진로 체험 참여 기업 모집</td>\n",
       "      <td>2023.03.06.</td>\n",
       "      <td>경기도가 '학생과 기업이 만나는 경기도 진로 체험'에 참여할 기업을 내달 7일까지 ...</td>\n",
       "    </tr>\n",
       "    <tr>\n",
       "      <th>3</th>\n",
       "      <td>https://n.news.naver.com/mnews/article/009/000...</td>\n",
       "      <td>롯데홈쇼핑 NFT 프로젝트 ‘벨리곰 NFT’, 협업사부터 메인넷까지 전면 개편 발표...</td>\n",
       "      <td>2023.03.06.</td>\n",
       "      <td>[엠블록레터] 롯데홈쇼핑의 NFT 프로젝트 벨리곰 NFT가 시즌2를 맞아 대대적인 ...</td>\n",
       "    </tr>\n",
       "    <tr>\n",
       "      <th>4</th>\n",
       "      <td>https://n.news.naver.com/mnews/article/417/000...</td>\n",
       "      <td>경기도, 학생과 만나는 진로체험 참여기업 모집…4월7일까지</td>\n",
       "      <td>2023.03.06.</td>\n",
       "      <td>경기도청 광교청사 전경. / 사진제공=경기도 경기도가 '학생과 기업이 만나는 경기도...</td>\n",
       "    </tr>\n",
       "  </tbody>\n",
       "</table>\n",
       "</div>"
      ],
      "text/plain": [
       "                                                link  \\\n",
       "0  https://n.news.naver.com/mnews/article/648/000...   \n",
       "1  https://n.news.naver.com/mnews/article/421/000...   \n",
       "2  https://n.news.naver.com/mnews/article/008/000...   \n",
       "3  https://n.news.naver.com/mnews/article/009/000...   \n",
       "4  https://n.news.naver.com/mnews/article/417/000...   \n",
       "\n",
       "                                               title         date  \\\n",
       "0                                클레이튼, 카카오와 '헤어질 결심'  2023.03.06.   \n",
       "1          카카오 벗어난 클레이튼, 올해 '대중화'에 중점…'디플레이션' 추구(종합)  2023.03.06.   \n",
       "2                    경기도, 학생과 기업이 만나는 진로 체험 참여 기업 모집  2023.03.06.   \n",
       "3  롯데홈쇼핑 NFT 프로젝트 ‘벨리곰 NFT’, 협업사부터 메인넷까지 전면 개편 발표...  2023.03.06.   \n",
       "4                   경기도, 학생과 만나는 진로체험 참여기업 모집…4월7일까지  2023.03.06.   \n",
       "\n",
       "                                                text  \n",
       "0  클레이튼, 간담회 열고 올해의 '비전 맵' 발표클레이 사용처 늘리고 투명한 정보 공...  \n",
       "1  자체 코인 '클레이' 디플레이션 추구…\"클레이 활용처 늘릴 것\"\"카카오 '거리두기'...  \n",
       "2  경기도가 '학생과 기업이 만나는 경기도 진로 체험'에 참여할 기업을 내달 7일까지 ...  \n",
       "3  [엠블록레터] 롯데홈쇼핑의 NFT 프로젝트 벨리곰 NFT가 시즌2를 맞아 대대적인 ...  \n",
       "4  경기도청 광교청사 전경. / 사진제공=경기도 경기도가 '학생과 기업이 만나는 경기도...  "
      ]
     },
     "execution_count": 2,
     "metadata": {},
     "output_type": "execute_result"
    }
   ],
   "source": [
    "df = pd.read_csv('new_naver_news.csv', encoding='utf-8')\n",
    "df.columns = ['link', 'title', 'date', 'text']\n",
    "df = df.drop_duplicates('link').reset_index(drop=True)\n",
    "print(df.shape)\n",
    "df.head()"
   ]
  },
  {
   "cell_type": "code",
   "execution_count": 39,
   "id": "a3015ece",
   "metadata": {},
   "outputs": [
    {
     "data": {
      "image/png": "[encoded data removed]",
      "text/plain": [
       "<Figure size 864x576 with 1 Axes>"
      ]
     },
     "metadata": {
      "needs_background": "light"
     },
     "output_type": "display_data"
    }
   ],
   "source": [
    "df['date'] = df['date'].astype('str').astype('datetime64[ns]')\n",
    "count_df = pd.DataFrame(df.value_counts('date')).sort_values('date').reset_index()\n",
    "count_df['date'] = pd.to_datetime(count_df['date'], format = '%Y-%m-%d')\n",
    "count_df.columns = ['date', 'count']\n",
    "count_df = count_df[count_df['date'] >= '2018-01-01']\n",
    "\n",
    "sns.lineplot(x='date', y='count', data=count_df)\n",
    "plt.title(\"Trend of news articles related to 'Dunamu' by date\")\n",
    "plt.show()"
   ]
  },
  {
   "cell_type": "markdown",
   "id": "8ea704c3",
   "metadata": {},
   "source": [
    "2020년 7월 경에 갑작스럽게 뉴스 기사가 많이 발견된 이유를 확인해보니, 두나무 로봇 기자인 C-Biz봇의 글들이 많이 수집되었기 때문."
   ]
  },
  {
   "cell_type": "markdown",
   "id": "032c4c25",
   "metadata": {},
   "source": [
    "## 수집한 뉴스 기사의 본문에서 konlpy를 통해 명사만 추출"
   ]
  },
  {
   "cell_type": "code",
   "execution_count": 3,
   "id": "e404e28a",
   "metadata": {
    "colab": {
     "base_uri": "https://localhost:8080/"
    },
    "id": "e404e28a",
    "outputId": "718adff5-08db-4c5e-b33e-71ec499a86c7"
   },
   "outputs": [
    {
     "name": "stderr",
     "output_type": "stream",
     "text": [
      "6589it [05:45, 19.06it/s]"
     ]
    },
    {
     "name": "stdout",
     "output_type": "stream",
     "text": [
      "(6589, 5)\n"
     ]
    },
    {
     "name": "stderr",
     "output_type": "stream",
     "text": [
      "\n"
     ]
    },
    {
     "data": {
      "text/html": [
       "<div>\n",
       "<style scoped>\n",
       "    .dataframe tbody tr th:only-of-type {\n",
       "        vertical-align: middle;\n",
       "    }\n",
       "\n",
       "    .dataframe tbody tr th {\n",
       "        vertical-align: top;\n",
       "    }\n",
       "\n",
       "    .dataframe thead th {\n",
       "        text-align: right;\n",
       "    }\n",
       "</style>\n",
       "<table border=\"1\" class=\"dataframe\">\n",
       "  <thead>\n",
       "    <tr style=\"text-align: right;\">\n",
       "      <th></th>\n",
       "      <th>link</th>\n",
       "      <th>title</th>\n",
       "      <th>date</th>\n",
       "      <th>text</th>\n",
       "      <th>nouns</th>\n",
       "    </tr>\n",
       "  </thead>\n",
       "  <tbody>\n",
       "    <tr>\n",
       "      <th>0</th>\n",
       "      <td>https://n.news.naver.com/mnews/article/648/000...</td>\n",
       "      <td>클레이튼, 카카오와 '헤어질 결심'</td>\n",
       "      <td>2023.03.06.</td>\n",
       "      <td>클레이튼, 간담회 열고 올해의 '비전 맵' 발표클레이 사용처 늘리고 투명한 정보 공...</td>\n",
       "      <td>[클레이튼, 카카오, 결심, 클레이튼, 간담, 올해, 발표, 클레이, 사용, 정보,...</td>\n",
       "    </tr>\n",
       "    <tr>\n",
       "      <th>1</th>\n",
       "      <td>https://n.news.naver.com/mnews/article/421/000...</td>\n",
       "      <td>카카오 벗어난 클레이튼, 올해 '대중화'에 중점…'디플레이션' 추구(종합)</td>\n",
       "      <td>2023.03.06.</td>\n",
       "      <td>자체 코인 '클레이' 디플레이션 추구…\"클레이 활용처 늘릴 것\"\"카카오 '거리두기'...</td>\n",
       "      <td>[카카오, 클레이튼, 올해, 대중화, 중점, 디플레이션, 추구, 종합, 자체, 코인...</td>\n",
       "    </tr>\n",
       "    <tr>\n",
       "      <th>2</th>\n",
       "      <td>https://n.news.naver.com/mnews/article/008/000...</td>\n",
       "      <td>경기도, 학생과 기업이 만나는 진로 체험 참여 기업 모집</td>\n",
       "      <td>2023.03.06.</td>\n",
       "      <td>경기도가 '학생과 기업이 만나는 경기도 진로 체험'에 참여할 기업을 내달 7일까지 ...</td>\n",
       "      <td>[경기도, 학생, 기업, 진로, 체험, 참여, 기업, 모집, 경기도, 학생, 기업,...</td>\n",
       "    </tr>\n",
       "    <tr>\n",
       "      <th>3</th>\n",
       "      <td>https://n.news.naver.com/mnews/article/009/000...</td>\n",
       "      <td>롯데홈쇼핑 NFT 프로젝트 ‘벨리곰 NFT’, 협업사부터 메인넷까지 전면 개편 발표...</td>\n",
       "      <td>2023.03.06.</td>\n",
       "      <td>[엠블록레터] 롯데홈쇼핑의 NFT 프로젝트 벨리곰 NFT가 시즌2를 맞아 대대적인 ...</td>\n",
       "      <td>[롯데, 홈쇼핑, 프로젝트, 협업, 메인넷, 전면, 개편, 발표, 블록, 레터, 블...</td>\n",
       "    </tr>\n",
       "    <tr>\n",
       "      <th>4</th>\n",
       "      <td>https://n.news.naver.com/mnews/article/417/000...</td>\n",
       "      <td>경기도, 학생과 만나는 진로체험 참여기업 모집…4월7일까지</td>\n",
       "      <td>2023.03.06.</td>\n",
       "      <td>경기도청 광교청사 전경. / 사진제공=경기도 경기도가 '학생과 기업이 만나는 경기도...</td>\n",
       "      <td>[경기도, 학생, 진로, 체험, 참여, 기업, 모집, 경기, 도청, 광교, 청사, ...</td>\n",
       "    </tr>\n",
       "  </tbody>\n",
       "</table>\n",
       "</div>"
      ],
      "text/plain": [
       "                                                link  \\\n",
       "0  https://n.news.naver.com/mnews/article/648/000...   \n",
       "1  https://n.news.naver.com/mnews/article/421/000...   \n",
       "2  https://n.news.naver.com/mnews/article/008/000...   \n",
       "3  https://n.news.naver.com/mnews/article/009/000...   \n",
       "4  https://n.news.naver.com/mnews/article/417/000...   \n",
       "\n",
       "                                               title         date  \\\n",
       "0                                클레이튼, 카카오와 '헤어질 결심'  2023.03.06.   \n",
       "1          카카오 벗어난 클레이튼, 올해 '대중화'에 중점…'디플레이션' 추구(종합)  2023.03.06.   \n",
       "2                    경기도, 학생과 기업이 만나는 진로 체험 참여 기업 모집  2023.03.06.   \n",
       "3  롯데홈쇼핑 NFT 프로젝트 ‘벨리곰 NFT’, 협업사부터 메인넷까지 전면 개편 발표...  2023.03.06.   \n",
       "4                   경기도, 학생과 만나는 진로체험 참여기업 모집…4월7일까지  2023.03.06.   \n",
       "\n",
       "                                                text  \\\n",
       "0  클레이튼, 간담회 열고 올해의 '비전 맵' 발표클레이 사용처 늘리고 투명한 정보 공...   \n",
       "1  자체 코인 '클레이' 디플레이션 추구…\"클레이 활용처 늘릴 것\"\"카카오 '거리두기'...   \n",
       "2  경기도가 '학생과 기업이 만나는 경기도 진로 체험'에 참여할 기업을 내달 7일까지 ...   \n",
       "3  [엠블록레터] 롯데홈쇼핑의 NFT 프로젝트 벨리곰 NFT가 시즌2를 맞아 대대적인 ...   \n",
       "4  경기도청 광교청사 전경. / 사진제공=경기도 경기도가 '학생과 기업이 만나는 경기도...   \n",
       "\n",
       "                                               nouns  \n",
       "0  [클레이튼, 카카오, 결심, 클레이튼, 간담, 올해, 발표, 클레이, 사용, 정보,...  \n",
       "1  [카카오, 클레이튼, 올해, 대중화, 중점, 디플레이션, 추구, 종합, 자체, 코인...  \n",
       "2  [경기도, 학생, 기업, 진로, 체험, 참여, 기업, 모집, 경기도, 학생, 기업,...  \n",
       "3  [롯데, 홈쇼핑, 프로젝트, 협업, 메인넷, 전면, 개편, 발표, 블록, 레터, 블...  \n",
       "4  [경기도, 학생, 진로, 체험, 참여, 기업, 모집, 경기, 도청, 광교, 청사, ...  "
      ]
     },
     "execution_count": 3,
     "metadata": {},
     "output_type": "execute_result"
    }
   ],
   "source": [
    "okt = Okt()\n",
    "df['nouns'] = ''\n",
    "\n",
    "# 기사의 제목과 본문 텍스트에 대해 2글자 이상의 명사만을 추출해서 새로운 column 만들기\n",
    "for i, _ in tqdm(df.iterrows()):\n",
    "    nouns = okt.nouns(df.loc[i, 'title'] + ' ' + df.loc[i, 'text'])\n",
    "    final_nouns = list(filter(lambda x: len(x) >= 2, nouns))\n",
    "    df.loc[i, 'nouns'] = final_nouns\n",
    "    \n",
    "print(df.shape)\n",
    "df.head()"
   ]
  },
  {
   "cell_type": "code",
   "execution_count": 4,
   "id": "cb41fd91",
   "metadata": {
    "colab": {
     "base_uri": "https://localhost:8080/",
     "height": 253
    },
    "id": "cb41fd91",
    "outputId": "8b6c542b-daf7-49f7-e660-f66fc472e8af"
   },
   "outputs": [],
   "source": [
    "# 문서를 명사 집합으로 보고 문서 리스트로 치환 (tfidfVectorizer 인풋 형태를 맞추기 위해)\n",
    "text = [\" \".join(noun) for noun in df['nouns']]\n",
    "\n",
    "tfidf_vectorizer = TfidfVectorizer(min_df=5, ngram_range=(1, 5))\n",
    "tfidf_vectorizer.fit(text)\n",
    "vector = tfidf_vectorizer.transform(text).toarray()"
   ]
  },
  {
   "cell_type": "markdown",
   "id": "2f618360",
   "metadata": {},
   "source": [
    "## 1. 뉴스 기사 본문의 명사 형태 단어들의 TF-IDF로 군집 (DBSCAN)"
   ]
  },
  {
   "cell_type": "code",
   "execution_count": 5,
   "id": "36590d5b",
   "metadata": {
    "id": "36590d5b"
   },
   "outputs": [
    {
     "data": {
      "text/plain": [
       "dbscan_cluster\n",
       "-1      2592\n",
       " 176     803\n",
       " 1       234\n",
       " 85      107\n",
       " 26       67\n",
       "        ... \n",
       " 231       5\n",
       " 233       5\n",
       " 33        5\n",
       " 30        5\n",
       " 146       5\n",
       "Length: 263, dtype: int64"
      ]
     },
     "execution_count": 5,
     "metadata": {},
     "output_type": "execute_result"
    }
   ],
   "source": [
    "### Clustering - DBSCAN\n",
    "vector = np.array(vector) # Normalizer를 이용해 변환된 벡터\n",
    "model = DBSCAN(eps=0.5, min_samples=5, metric = \"cosine\")\n",
    "result = model.fit_predict(vector)\n",
    "df['dbscan_cluster'] = result\n",
    "df.value_counts('dbscan_cluster')"
   ]
  },
  {
   "cell_type": "markdown",
   "id": "690aefd2",
   "metadata": {},
   "source": [
    "## 2. 뉴스 기사 본문의 명사 형태 단어들의 TF-IDF로 군집 (K-means)"
   ]
  },
  {
   "cell_type": "code",
   "execution_count": 7,
   "id": "e95c4723",
   "metadata": {
    "id": "e95c4723"
   },
   "outputs": [
    {
     "name": "stderr",
     "output_type": "stream",
     "text": [
      "100%|███████████████████████████████████████| 28/28 [8:39:31<00:00, 1113.28s/it]\n"
     ]
    },
    {
     "data": {
      "image/png": "[encoded data removed]",
      "text/plain": [
       "<Figure size 432x288 with 2 Axes>"
      ]
     },
     "metadata": {
      "needs_background": "light"
     },
     "output_type": "display_data"
    },
    {
     "data": {
      "text/plain": [
       "kmeans_cluster\n",
       "21    929\n",
       "1     708\n",
       "5     491\n",
       "8     481\n",
       "27    440\n",
       "17    396\n",
       "16    342\n",
       "18    325\n",
       "25    323\n",
       "4     252\n",
       "22    234\n",
       "24    177\n",
       "23    158\n",
       "10    126\n",
       "13    124\n",
       "19    124\n",
       "6     123\n",
       "26    123\n",
       "11     95\n",
       "14     94\n",
       "9      91\n",
       "2      85\n",
       "28     80\n",
       "3      76\n",
       "20     72\n",
       "7      47\n",
       "15     45\n",
       "0      16\n",
       "12     12\n",
       "dtype: int64"
      ]
     },
     "execution_count": 7,
     "metadata": {},
     "output_type": "execute_result"
    }
   ],
   "source": [
    "### Clustering - K-means\n",
    "def visualize_silhouette_layer(data):\n",
    "    clusters_range = range(2, 30)\n",
    "    results = []\n",
    "\n",
    "    for i in tqdm(clusters_range):\n",
    "        clusterer = KMeans(n_clusters=i)\n",
    "        cluster_labels = clusterer.fit_predict(data)\n",
    "        silhouette_avg = silhouette_score(data, cluster_labels)\n",
    "        results.append([i, silhouette_avg])\n",
    "\n",
    "    result = pd.DataFrame( results, columns=[\"n_clusters\", \"silhouette_score\"])\n",
    "    pivot_km = pd.pivot_table(result, index=\"n_clusters\", values=\"silhouette_score\")\n",
    "\n",
    "    plt.figure()\n",
    "    sns.heatmap(pivot_km, annot=True, linewidths=.5, fmt='.3f', cmap=sns.cm._rocket_lut)\n",
    "    plt.tight_layout()\n",
    "    plt.show()\n",
    "    \n",
    "    return result\n",
    "\n",
    "result = visualize_silhouette_layer(vector) # 가장 높은 실루엣 계수와 매핑되는 k\n",
    "best_cluster = result.sort_values('silhouette_score').tail(1)['n_clusters'].values[0]\n",
    "df['kmeans_cluster'] = KMeans(n_clusters=best_cluster).fit_predict(vector)\n",
    "df.value_counts('kmeans_cluster')"
   ]
  },
  {
   "cell_type": "markdown",
   "id": "e5a58f4d",
   "metadata": {},
   "source": [
    "## 3. 뉴스 기사 본문으로 군집 (SBERT 모델)"
   ]
  },
  {
   "cell_type": "code",
   "execution_count": 8,
   "id": "9a0569c1",
   "metadata": {
    "id": "9a0569c1"
   },
   "outputs": [
    {
     "data": {
      "text/plain": [
       "sbert_kmeans_cluster\n",
       "9     413\n",
       "2     382\n",
       "3     372\n",
       "15    348\n",
       "5     344\n",
       "17    329\n",
       "22    320\n",
       "6     310\n",
       "1     308\n",
       "0     275\n",
       "19    269\n",
       "23    257\n",
       "11    256\n",
       "4     233\n",
       "14    226\n",
       "13    203\n",
       "7     200\n",
       "21    192\n",
       "12    168\n",
       "16    156\n",
       "20    154\n",
       "25    147\n",
       "27    139\n",
       "28    139\n",
       "24    138\n",
       "26    111\n",
       "18     90\n",
       "10     81\n",
       "8      29\n",
       "dtype: int64"
      ]
     },
     "execution_count": 8,
     "metadata": {},
     "output_type": "execute_result"
    }
   ],
   "source": [
    "model = SentenceTransformer('snunlp/KR-SBERT-V40K-klueNLI-augSTS')\n",
    "\n",
    "corpus_embeddings = model.encode(df['text'])\n",
    "clustering_model = KMeans(n_clusters=best_cluster) # k = 29\n",
    "clustering_model.fit(corpus_embeddings)\n",
    "df['sbert_kmeans_cluster'] = clustering_model.labels_\n",
    "df.value_counts('sbert_kmeans_cluster')"
   ]
  },
  {
   "cell_type": "markdown",
   "id": "621420e0",
   "metadata": {},
   "source": [
    "## SBERT를 통해 군집화 (k=29) 결과에 따라 가장 많이 나왔던 명사와 본문을 보며 키워드를 출력해보기\n",
    "\n",
    "1. Cluster 0: `코인의 부정적 전망에 대한 군집` => 코인, 하락, 공포탐욕지수, 투자 심리 위축, 불안\n",
    "2. Cluster 1: `두나무의 성과에 대한 군집` => ISMS-P 인증 획득, 블록체인 산업 육성, 스타트업 투자, 컨퍼런스, 대학생 서포터즈, 지수 개발\n",
    "3. Cluster 2: `두나무 로봇 기자인 C-Biz봇의 기사 (개별 주식)에 대한 군집` => 상승, 외국인, 기관, 주가, 거래, VI 발동\n",
    "4. Cluster 3: `두나무 로봇 기자인 C-Biz봇의 기사 (연관 테마 소개)에 대한 군집` => 상승, 외국인, 기관, 주가, 거래, 연관, 테마\n",
    "5. Cluster 4: `오늘의 코인 가격 분석에 대한 군집` => 코인, 상승, 하락, 지수, 시장, 전망\n",
    "6. Cluster 5: `스타트업 분석에 대한 군집` => 카카오, 쏘카, 당근마켓, 스타트업, NFT, 블록체인, 메타버스, IPO, 비상장\n",
    "7. Cluster 6: `두나무 및 카카오 관련 내용에 대한 군집` => 카카오, 두나무, 투자, 비상장, 주식, 기업\n",
    "8. Cluster 7: `두나무의 ESG 관련 행보에 대한 군집` => 투자자 보호 센터, ESG 경영위, 사회, 환경, 투자, 후원, 기부\n",
    "9. Cluster 8: `두나무 한국프로탁구리그에 대한 군집` => 탁구, 경기, 리그, 선수\n",
    "10. Cluster 9: `암호화폐 전망 및 이슈에 대한 군집` => 가상자산, 거래소, 코인, 투자자, 시장, 대표, 루나코인, 테라코인\n",
    "11. Cluster 10: `두나무 매출에 대한 군집` => 두나무, 영업, 매출, 이익, 순이익, 투자, 기록, 증가, 감소\n",
    "12. Cluster 11: `두나무의 NFT 활용 사례에 대한 군집` => NFT, 작품, 토큰, 거래, 작가, 판매, 기부, 전시, 이벤트\n",
    "13. Cluster 12: `두나무 로봇 기자인 C-Biz봇의 기사 (ETF 가격 변화)에 대한 군집` => 선물, 지수, 코스닥, 코스피, 원유, 레버리지, 추종, ETF\n",
    "14. Cluster 13: `두나무의 사회 활동에 대한 군집` => 청년, 지원, 교육, 금융, 프로그램, 자립, 사업\n",
    "15. Cluster 14: `두나무의 사업 전망에 대한 군집` => 블록체인, 대표, 행사, 개발자, 컨퍼런스, UDC 2022, 람다256 \n",
    "16. Cluster 15: `코인 가격에 대한 군집` => 비트코인, 가상화폐, 가격, 지수, 거래, 투자\n",
    "17. Cluster 16: `두나무 로봇 기자인 C-Biz봇의 기사 (강세 토픽)에 대한 군집` => 테마, 종목, 산업, 등락, 기업, 투자\n",
    "18. Cluster 17: `스타트업 투자에 대한 군집` => 카카오, 스타트업, 투자, 기업, 사업, 시장, 창업\n",
    "19. Cluster 18: `두나무 법적 이슈에 대한 군집` => 무죄, 송치, 재판, 검찰, 선고, 혐의, 영장, 증거\n",
    "20. Cluster 19: `두나무의 자회사에 대한 군집` => 람다256, 메타버스, 블록체인, 사업, 웹 3.0 시대\n",
    "21. Cluster 20: `스타트업 일자리 등과 관련한 군집` => 고용, 일자리, 유니콘, 스타트업, 투자, 성장\n",
    "22. Cluster 21: `주식 가격 상승 및 하락에 대한 군집` => 투자, 거래, 상승, 주가, 시장, 하락, 종목\n",
    "23. Cluster 22: `기업 전망에 대한 군집` => 기업, 회사, 거래, 시장, 사업, 정부, 대기업\n",
    "24. Cluster 23: `증권플러스에 대한 군집` => 증권플러스, 비상장, 투자, 서비스, 주식, 자산, 기업, 정보, 플랫폼, 종목, 투자자, 관리\n",
    "25. Cluster 24: `하이브-두나무 관련 군집` => 하이브, 사업, 아티스트, 메타버스, 엔터테인먼트, 콘텐츠, 매출, 주가, 시장, 팬덤\n",
    "26. Cluster 25: `국감 출석에 대한 군집` => 카카오, 증인, 정무, 국회, 국감, 출석, 국정감사\n",
    "27. Cluster 26: `두나무 로봇 기자인 C-Biz봇의 기사에 대한 군집` => 상승, 주가, 기관, 전일, 대비, 거래, 테마\n",
    "28. Cluster 27: `두나무의 환경 관련 활동에 대한 군집` => 두나무, 산림, 캠페인, 피해, 산림청, 식물, 포레스트, 조성\n",
    "29. Cluster 28: `암호화폐 상장 폐지와 관련한 군집` => 위믹스, 위메이드, 거래소, 상장폐지, 가처분, 자산"
   ]
  },
  {
   "cell_type": "code",
   "execution_count": 84,
   "id": "e65296f2",
   "metadata": {
    "scrolled": false
   },
   "outputs": [
    {
     "name": "stdout",
     "output_type": "stream",
     "text": [
      "Cluster: 0\n",
      "[('코인', 1711), ('가상', 1691), ('비트코인', 1566), ('자산', 1525), ('시장', 1496), ('화폐', 1235), ('지수', 1179), ('공포', 1112), ('하락', 1051), ('거래소', 918)] \n",
      "\n",
      "Cluster: 1\n",
      "[('자산', 1643), ('비트', 1393), ('나무', 1322), ('디지털', 1153), ('지수', 774), ('인덱스', 683), ('시장', 654), ('투자자', 643), ('투자', 635), ('금융', 628)] \n",
      "\n",
      "Cluster: 2\n",
      "[('상승', 998), ('조선', 773), ('외국인', 764), ('기관', 764), ('주가', 764), ('비즈', 764), ('확대', 404), ('플러스', 391), ('증권', 388), ('거래', 382)] \n",
      "\n",
      "Cluster: 3\n",
      "[('상승', 935), ('비즈', 744), ('조선', 743), ('외국인', 742), ('기관', 742), ('주가', 742), ('테크', 556), ('플러스', 428), ('에스', 406), ('전자', 401)] \n",
      "\n",
      "Cluster: 4\n",
      "[('시장', 1500), ('지수', 1068), ('화폐', 942), ('암호', 877), ('공포', 786), ('탐욕', 725), ('하락', 561), ('코인', 494), ('매우', 462), ('갈수록', 440)] \n",
      "\n",
      "Cluster: 5\n",
      "[('투자', 2922), ('거래', 2006), ('기업', 1848), ('증권', 1755), ('비상', 1718), ('시장', 1696), ('주식', 1538), ('자산', 1498), ('가상', 1356), ('플랫폼', 1155)] \n",
      "\n",
      "Cluster: 6\n",
      "[('나무', 1594), ('증권', 1293), ('투자', 1279), ('거래', 1167), ('비상', 1050), ('주식', 889), ('카카오', 735), ('기업', 720), ('플러스', 641), ('비트', 512)] \n",
      "\n",
      "Cluster: 7\n",
      "[('나무', 1905), ('경영', 734), ('위원회', 475), ('사회', 475), ('환경', 426), ('디지털', 394), ('기업', 391), ('위해', 351), ('블록', 337), ('자산', 330)] \n",
      "\n",
      "Cluster: 8\n",
      "[('경기', 63), ('리그', 60), ('뉴스', 56), ('포스코에너지', 48), ('탁구', 46), ('선수', 45), ('대한항공', 39), ('나무', 31), ('한국', 31), ('기자', 30)] \n",
      "\n",
      "Cluster: 9\n",
      "[('자산', 3600), ('가상', 3312), ('거래소', 2931), ('코인', 1877), ('거래', 1588), ('비트', 1495), ('화폐', 1344), ('투자자', 1251), ('나무', 1212), ('시장', 1125)] \n",
      "\n",
      "Cluster: 10\n",
      "[('나무', 405), ('영업', 332), ('매출', 319), ('이익', 308), ('감소', 282), ('대비', 225), ('자산', 181), ('순이익', 172), ('지난해', 166), ('올해', 157)] \n",
      "\n",
      "Cluster: 11\n",
      "[('비트', 1132), ('나무', 1104), ('작품', 552), ('거래', 436), ('작가', 333), ('통해', 328), ('판매', 317), ('기부', 312), ('플랫폼', 309), ('디지털', 306)] \n",
      "\n",
      "Cluster: 12\n",
      "[('선물', 2257), ('지수', 1405), ('코스닥', 1256), ('원유', 1224), ('상승', 1136), ('수익률', 1080), ('종목', 941), ('테마', 848), ('버스', 774), ('하락', 762)] \n",
      "\n",
      "Cluster: 13\n",
      "[('나무', 1643), ('지원', 983), ('청년', 728), ('교육', 607), ('사회', 600), ('금융', 537), ('기업', 507), ('자립', 438), ('사업', 431), ('위해', 365)] \n",
      "\n",
      "Cluster: 14\n",
      "[('체인', 1893), ('블록', 1879), ('나무', 1007), ('대표', 929), ('자산', 814), ('가상', 559), ('행사', 487), ('비트', 483), ('기술', 459), ('디지털', 438)] \n",
      "\n",
      "Cluster: 15\n",
      "[('비트코인', 2537), ('화폐', 1712), ('가상', 1358), ('가격', 1204), ('공포', 1145), ('지수', 1069), ('자산', 1015), ('코인', 994), ('거래', 976), ('탐욕', 965)] \n",
      "\n",
      "Cluster: 16\n",
      "[('테마', 792), ('개발', 733), ('유전체', 699), ('종목', 688), ('사업', 565), ('산업', 562), ('등락', 552), ('업체', 508), ('검사', 484), ('관련', 479)] \n",
      "\n",
      "Cluster: 17\n",
      "[('투자', 2848), ('기업', 1372), ('스타트업', 1179), ('카카오', 1165), ('대표', 1115), ('서비스', 866), ('플랫폼', 798), ('나무', 682), ('사업', 676), ('시장', 500)] \n",
      "\n",
      "Cluster: 18\n",
      "[('나무', 572), ('의장', 365), ('무죄', 295), ('송치', 287), ('재판', 272), ('검찰', 251), ('선고', 249), ('거래', 246), ('증거', 236), ('혐의', 231)] \n",
      "\n",
      "Cluster: 19\n",
      "[('블록', 1350), ('나무', 1140), ('체인', 1081), ('버스', 834), ('서비스', 757), ('메타', 647), ('플랫폼', 640), ('사업', 622), ('기술', 571), ('람다', 517)] \n",
      "\n",
      "Cluster: 20\n",
      "[('기업', 1747), ('투자', 1312), ('유니콘', 1001), ('스타트업', 899), ('나무', 502), ('국내', 441), ('개사', 403), ('서비스', 380), ('플랫폼', 352), ('통해', 318)] \n",
      "\n",
      "Cluster: 21\n",
      "[('증권', 880), ('투자', 704), ('거래', 663), ('상승', 521), ('주가', 516), ('기업', 470), ('시장', 459), ('하락', 395), ('상장', 390), ('나무', 381)] \n",
      "\n",
      "Cluster: 22\n",
      "[('기업', 1466), ('투자', 1045), ('자산', 906), ('집단', 844), ('나무', 735), ('금융', 684), ('회사', 669), ('거래', 574), ('한국', 537), ('시장', 523)] \n",
      "\n",
      "Cluster: 23\n",
      "[('증권', 1799), ('투자', 1286), ('비상', 1219), ('거래', 1213), ('나무', 1135), ('플러스', 1132), ('서비스', 984), ('주식', 975), ('자산', 796), ('기업', 608)] \n",
      "\n",
      "Cluster: 24\n",
      "[('하이브', 1094), ('사업', 596), ('아티스트', 474), ('나무', 456), ('버스', 416), ('플랫폼', 412), ('투자', 296), ('엔터테인먼트', 257), ('디지털', 254), ('콘텐츠', 245)] \n",
      "\n",
      "Cluster: 25\n",
      "[('카카오', 826), ('대표', 746), ('증인', 596), ('금융', 552), ('위원회', 415), ('서비스', 413), ('정무', 410), ('국회', 401), ('국감', 366), ('관련', 362)] \n",
      "\n",
      "Cluster: 26\n",
      "[('건설', 303), ('상승', 297), ('개발', 249), ('주가', 222), ('외국인', 220), ('기관', 220), ('조선', 220), ('비즈', 220), ('나무', 130), ('증권', 114)] \n",
      "\n",
      "Cluster: 27\n",
      "[('나무', 1630), ('캠페인', 461), ('산림', 409), ('피해', 392), ('산림청', 386), ('산불', 368), ('지역', 350), ('버스', 324), ('식물', 317), ('가상', 316)] \n",
      "\n",
      "Cluster: 28\n",
      "[('믹스', 1480), ('위메이드', 965), ('거래소', 897), ('비트', 795), ('거래', 717), ('결정', 653), ('자산', 574), ('가상', 541), ('가처분', 504), ('종료', 436)] \n",
      "\n"
     ]
    }
   ],
   "source": [
    "cluster_df = df.groupby('sbert_kmeans_cluster').agg({'nouns': 'sum'}).reset_index()\n",
    "cluster_df.columns = ['cluster', 'nouns']\n",
    "\n",
    "for i, _ in cluster_df.iterrows():\n",
    "    print(f\"Cluster: {i}\")\n",
    "    print(Counter(cluster_df[cluster_df['cluster'] == i]['nouns'][i]).most_common(10), '\\n')"
   ]
  },
  {
   "cell_type": "markdown",
   "id": "2aac7c32",
   "metadata": {},
   "source": [
    "## 위 결과에서 비슷한 항목들이 존재 했기에, 군집의 숫자를 변경해보기 (k = 29 -> 12)\n",
    "\n",
    "1. 두나무 매출에 관한 군집 (군집 10)\n",
    "2. 두나무 한국프로탁구리그에 대한 군집 (군집 8)\n",
    "3. 암호화폐 상장 폐지와 관련한 군집 (군집 28)\n",
    "4. 주식 가격 상승 및 하락에 대한 군집 (군집 21)\n",
    "5. 기업 전망에 대한 군집 (군집 22)\n",
    "6. 하이브-두나무에 대한 군집 (군집 24)\n",
    "7. 스타트업 일자리 등과 관련한 군집 (군집 5, 20)\n",
    "8. 스타트업 투자 및 카카오 관련 군집 (군집 6, 17)\n",
    "9. 두나무 법적 이슈 및 국감 출석에 관한 군집 (군집 18, 25)\n",
    "10. 코인 가격 전망과 관련한 군집 (군집 0, 4, 9, 15)\n",
    "11. 두나무 로봇 기자인 C-Biz봇의 기사에 대한 군집 (군집 2, 3, 12, 16, 26)\n",
    "12. 두나무 성과 및 사회적 활동에 대한 군집 (군집 1, 7, 11, 13, 14, 19, 23, 27)"
   ]
  },
  {
   "cell_type": "code",
   "execution_count": 85,
   "id": "fa79fe05",
   "metadata": {},
   "outputs": [
    {
     "data": {
      "text/plain": [
       "sbert_kmeans_new_cluster\n",
       "9     866\n",
       "5     838\n",
       "0     790\n",
       "8     684\n",
       "11    670\n",
       "3     533\n",
       "4     532\n",
       "10    477\n",
       "1     392\n",
       "7     321\n",
       "2     317\n",
       "6     169\n",
       "dtype: int64"
      ]
     },
     "execution_count": 85,
     "metadata": {},
     "output_type": "execute_result"
    }
   ],
   "source": [
    "corpus_embeddings = model.encode(df['text'])\n",
    "new_clustering_model = KMeans(n_clusters=12) # k = 12\n",
    "new_clustering_model.fit(corpus_embeddings)\n",
    "df['sbert_kmeans_new_cluster'] = new_clustering_model.labels_\n",
    "df.value_counts('sbert_kmeans_new_cluster')"
   ]
  },
  {
   "cell_type": "code",
   "execution_count": 89,
   "id": "a436b5b3",
   "metadata": {},
   "outputs": [],
   "source": [
    "df.sort_values('sbert_kmeans_new_cluster').to_csv('/Users/paul/Desktop/df.csv')"
   ]
  },
  {
   "cell_type": "markdown",
   "id": "e5501506",
   "metadata": {},
   "source": [
    "## 군집 개수 수정 후, 다시 군집 세부 분류 추론\n",
    "\n",
    "1. Cluster 0: `스타트업 및 비상장 주식에 대한 군집` => 스타트업, 투자, 비상장, 주식, 증권플러스\n",
    "2. Cluster 1: `두나무 로봇 기자인 C-Biz봇의 기사에 대한 군집` => 상승, 외국인, 기관, 주가, 거래, 대비\n",
    "3. Cluster 2: `두나무의 사회적 활동에 대한 군집` => 지원, 청년, 사회, 교육, 기부, 자립, 아동\n",
    "4. Cluster 3: `주식 가격 전망에 대한 군집` => 투자, 기업, 종목, 사업, 거래, 테마, 매출, 상승, 시장\n",
    "5. Cluster 4: `법적 이슈 및 국감 출석에 대한 군집` => 국회, 증인, 대표, 회장, 국감, \n",
    "6. Cluster 5: `암호화폐 가격 전망에 대한 군집` => 시장, 비트코인, 화폐, 지수, 코인, 탐욕, 공포, 거래, 가격\n",
    "7. Cluster 6: `강세 토픽 분석에 대한 군집` => 선물, 지수, 코스닥, 원유, 수익률, 레버리지, 추종, ETF\n",
    "8. Cluster 7: `두나무의 환경 활동에 대한 군집` => 산림, 캠페인, 산림청, 사회, 기부, ESG\n",
    "9. Cluster 8: `두나무 사업에 대한 군집` => 증권플러스, 업비트, 비상장, 두나무투자일임, UBCI, 지수\n",
    "10. Cluster 9: `두나무 회사와 협업에 대한 군집` => NFT, 개발자 컨퍼런스, 람다256, 하이브, \n",
    "11. Cluster 10: `두나무 로봇 기자인 C-Biz봇의 기사 (연관 테마)에 대한 군집` => 상승, 외국인, 기관, 주가, 증권플러스, 거래, 연관, 테마\n",
    "12. Cluster 11: `안전한 암호화폐 거래에 대한 군집` => 거래소, 투자자, 위믹스, 루나, 테라, 상장폐지"
   ]
  },
  {
   "cell_type": "code",
   "execution_count": 90,
   "id": "2f50a1d8",
   "metadata": {},
   "outputs": [
    {
     "name": "stdout",
     "output_type": "stream",
     "text": [
      "Cluster: 0\n",
      "[('투자', 6777), ('기업', 4793), ('거래', 2773), ('시장', 2770), ('증권', 2423), ('나무', 2410), ('비상', 2302), ('주식', 2114), ('스타트업', 2066), ('플랫폼', 2050), ('자산', 2024), ('사업', 1964), ('카카오', 1936), ('상장', 1889), ('가상', 1658), ('서비스', 1642), ('국내', 1566), ('대표', 1479), ('유니콘', 1468), ('거래소', 1358)] \n",
      "\n",
      "Cluster: 1\n",
      "[('상승', 1037), ('외국인', 796), ('기관', 791), ('조선', 788), ('주가', 775), ('비즈', 774), ('거래', 413), ('확대', 408), ('증권', 400), ('대비', 396), ('플러스', 395), ('기자', 395), ('나무', 393), ('전일', 391), ('등락', 391), ('네이버', 390), ('최근', 389), ('메인', 389), ('매매', 388), ('보기', 388)] \n",
      "\n",
      "Cluster: 2\n",
      "[('나무', 2416), ('지원', 1241), ('청년', 775), ('사회', 688), ('금융', 687), ('기업', 665), ('교육', 661), ('위해', 584), ('디지털', 574), ('사업', 500), ('기부', 500), ('자산', 488), ('자립', 442), ('비트', 402), ('통해', 395), ('대표', 391), ('제공', 384), ('아동', 362), ('블록', 359), ('청소년', 354)] \n",
      "\n",
      "Cluster: 3\n",
      "[('투자', 1613), ('증권', 1386), ('나무', 1352), ('기업', 1204), ('종목', 1014), ('사업', 1009), ('거래', 953), ('테마', 914), ('매출', 884), ('대비', 851), ('국내', 847), ('관련', 838), ('개발', 834), ('상승', 813), ('시장', 766), ('증가', 755), ('유전체', 700), ('산업', 657), ('업체', 656), ('카카오', 646)] \n",
      "\n",
      "Cluster: 4\n",
      "[('대표', 1451), ('나무', 1379), ('자산', 1152), ('카카오', 1111), ('기업', 973), ('금융', 896), ('가상', 852), ('관련', 712), ('회장', 698), ('위원회', 686), ('거래', 681), ('서울', 662), ('기자', 620), ('증인', 618), ('투자', 571), ('한국', 566), ('뉴스', 558), ('대한', 531), ('비트', 530), ('국회', 519)] \n",
      "\n",
      "Cluster: 5\n",
      "[('비트코인', 4325), ('시장', 3670), ('화폐', 3644), ('지수', 3310), ('공포', 2989), ('코인', 2871), ('가상', 2717), ('하락', 2529), ('자산', 2488), ('암호', 2312), ('탐욕', 2285), ('거래', 1999), ('가격', 1775), ('거래소', 1699), ('비트', 1685), ('상승', 1591), ('투자', 1367), ('미국', 1334), ('나무', 1302), ('기준', 1265)] \n",
      "\n",
      "Cluster: 6\n",
      "[('선물', 2275), ('지수', 1407), ('코스닥', 1256), ('원유', 1224), ('상승', 1147), ('수익률', 1084), ('종목', 946), ('테마', 853), ('버스', 774), ('하락', 762), ('투자', 752), ('코스피', 733), ('상장', 712), ('레버리지', 693), ('추종', 677), ('가격', 675), ('등락', 592), ('기초', 540), ('조선', 402), ('비즈', 402)] \n",
      "\n",
      "Cluster: 7\n",
      "[('나무', 3219), ('경영', 781), ('산림', 754), ('캠페인', 644), ('블록', 623), ('메타', 568), ('버스', 564), ('산림청', 561), ('환경', 557), ('사회', 539), ('진행', 469), ('위해', 463), ('지역', 458), ('참여', 456), ('가상', 440), ('피해', 439), ('위원회', 436), ('탄소', 434), ('기업', 431), ('보호', 431)] \n",
      "\n",
      "Cluster: 8\n",
      "[('나무', 3052), ('증권', 2815), ('자산', 2688), ('투자', 2627), ('거래', 2560), ('비상', 2194), ('서비스', 2168), ('플러스', 1691), ('주식', 1662), ('기업', 1546), ('비트', 1494), ('디지털', 1493), ('금융', 1447), ('플랫폼', 1325), ('투자자', 1194), ('시장', 1176), ('블록', 1141), ('제공', 1097), ('체인', 1075), ('가상', 1062)] \n",
      "\n",
      "Cluster: 9\n",
      "[('블록', 3620), ('나무', 3457), ('체인', 3180), ('비트', 2091), ('플랫폼', 1796), ('서비스', 1711), ('버스', 1665), ('투자', 1643), ('대표', 1642), ('기업', 1522), ('디지털', 1457), ('사업', 1452), ('자산', 1452), ('메타', 1358), ('기술', 1310), ('통해', 1300), ('거래', 1071), ('제공', 1022), ('가상', 930), ('콘텐츠', 929)] \n",
      "\n",
      "Cluster: 10\n",
      "[('상승', 1218), ('비즈', 954), ('조선', 953), ('외국인', 952), ('기관', 952), ('주가', 952), ('개발', 615), ('테크', 613), ('플러스', 534), ('나무', 514), ('에스', 511), ('로봇', 495), ('증권', 479), ('최근', 478), ('거래', 477), ('기자', 477), ('네이버', 477), ('연관', 476), ('테마', 476), ('일간', 476)] \n",
      "\n",
      "Cluster: 11\n",
      "[('자산', 4756), ('가상', 4555), ('거래소', 4423), ('비트', 2823), ('코인', 2742), ('거래', 2683), ('화폐', 2060), ('나무', 2016), ('투자자', 1858), ('시장', 1709), ('믹스', 1510), ('국내', 1453), ('대표', 1408), ('상장', 1335), ('투자', 1297), ('루나', 1256), ('금융', 1255), ('암호', 1232), ('빗썸', 1169), ('관련', 1006)] \n",
      "\n"
     ]
    }
   ],
   "source": [
    "cluster_df = df.groupby('sbert_kmeans_new_cluster').agg({'nouns': 'sum'}).reset_index()\n",
    "cluster_df.columns = ['cluster', 'nouns']\n",
    "\n",
    "for i, _ in cluster_df.iterrows():\n",
    "    print(f\"Cluster: {i}\")\n",
    "    print(Counter(cluster_df[cluster_df['cluster'] == i]['nouns'][i]).most_common(20), '\\n')"
   ]
  },
  {
   "cell_type": "code",
   "execution_count": 86,
   "id": "aHmGLC4bIkyQ",
   "metadata": {
    "id": "aHmGLC4bIkyQ"
   },
   "outputs": [],
   "source": [
    "df.to_csv('new_naver_news_clustering.csv')"
   ]
  }
 ],
 "metadata": {
  "colab": {
   "provenance": []
  },
  "kernelspec": {
   "display_name": "Python 3 (ipykernel)",
   "language": "python",
   "name": "python3"
  },
  "language_info": {
   "codemirror_mode": {
    "name": "ipython",
    "version": 3
   },
   "file_extension": ".py",
   "mimetype": "text/x-python",
   "name": "python",
   "nbconvert_exporter": "python",
   "pygments_lexer": "ipython3",
   "version": "3.9.1"
  }
 },
 "nbformat": 4,
 "nbformat_minor": 5
}
